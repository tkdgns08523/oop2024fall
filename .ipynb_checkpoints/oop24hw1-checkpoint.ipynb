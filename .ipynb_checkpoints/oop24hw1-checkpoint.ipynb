{
 "cells": [
  {
   "cell_type": "markdown",
   "id": "49b2bb3f-8a94-4aba-bf67-6b97d86c0047",
   "metadata": {},
   "source": [
    "# OOP (2024 Fall) HW1: 불변 순서쌍을 활용해 가변 순서쌍 만들기 \n",
    "- 이름: 한상훈\n",
    "- 학번: 20210504\n",
    "\n",
    "여기 홍길동, 99999999 대신 본인의 이름, 학번 작성"
   ]
  },
  {
   "cell_type": "markdown",
   "id": "9c3c24aa-19ac-4c88-a228-0d1686034a24",
   "metadata": {},
   "source": [
    "-----\n",
    "## Part A: 불변 순서쌍 Pair\n",
    "1. 클래스(또는 정적) 팩토리 메소드 `of`를 를 수정하여 완성하라.\n",
    "    - https://velog.io/@cjh8746/%EC%A0%95%EC%A0%81-%ED%8C%A9%ED%86%A0%EB%A6%AC-%EB%A9%94%EC%84%9C%EB%93%9CStatic-Factory-Method\n",
    "1. 주석 부분을 풀어 제너릭 클래스인 `Pair`가 제너릭 인터페이스 `Comparable`를 구현하도록 완성하라.\n",
    "    - https://docs.oracle.com/en/java/javase/22/docs/api/java.base/java/lang/Comparable.html"
   ]
  },
  {
   "cell_type": "code",
   "execution_count": 1,
   "id": "f2b4bcb7-9d9c-494a-9762-ca0700c6f762",
   "metadata": {},
   "outputs": [],
   "source": [
    "record Pair<F extends Comparable<F>, S extends Comparable<S>>(F first, S second) implements Comparable<Pair<F, S>> {\n",
    "    \n",
    "    // 제너릭 메소드로 수정하여 컴파일이 되도록 함\n",
    "    static <F extends Comparable<F>, S extends Comparable<S>> Pair<F, S> of(F first, S second) {\n",
    "        return new Pair<>(first, second);\n",
    "    }\n",
    "    \n",
    "    // 사전순 비교를 정의\n",
    "    @Override\n",
    "    public int compareTo(Pair<F, S> other) {\n",
    "        int firstComparison = this.first.compareTo(other.first);\n",
    "        if (firstComparison != 0) {\n",
    "            return firstComparison;\n",
    "        }\n",
    "        return this.second.compareTo(other.second);\n",
    "    }\n",
    "}"
   ]
  },
  {
   "cell_type": "code",
   "execution_count": 2,
   "id": "5fb5b2ac-4ac0-40cc-9f87-1675177e4baa",
   "metadata": {},
   "outputs": [
    {
     "name": "stdout",
     "output_type": "stream",
     "text": [
      "1\n",
      "-1\n",
      "0\n"
     ]
    }
   ],
   "source": [
    "// 테스트 케이스 1: 왼쪽이 더 큰 경우\n",
    "Pair<Integer, String> pair1 = Pair.of(5, \"Apple\");\n",
    "Pair<Integer, String> pair2 = Pair.of(3, \"Banana\");\n",
    "\n",
    "// 테스트 케이스 2: 왼쪽이 더 작은 경우\n",
    "Pair<Integer, String> pair3 = Pair.of(2, \"Apple\");\n",
    "Pair<Integer, String> pair4 = Pair.of(3, \"Banana\");\n",
    "\n",
    "// 테스트 케이스 3: 같은 경우\n",
    "Pair<Integer, String> pair5 = Pair.of(3, \"Apple\");\n",
    "Pair<Integer, String> pair6 = Pair.of(3, \"Apple\");\n",
    "\n",
    "System.out.println(pair1.compareTo(pair2));  // 양수 (pair1이 더 큼)\n",
    "System.out.println(pair3.compareTo(pair4));  // 음수 (pair3이 더 작음)\n",
    "System.out.println(pair5.compareTo(pair6));  // 0 (같음)"
   ]
  },
  {
   "cell_type": "markdown",
   "id": "e2774a64-250e-4e89-a536-5a8ed42bb4ce",
   "metadata": {},
   "source": [
    "------\n",
    "## Part B: 가변 순서쌍 ModifiablePair\n",
    "\n",
    "불변 순서쌍만을 priviate 필드로 갖고 있는 가변 순서쌍 제너릭 클래스를 작성하라\n",
    "\n",
    "가변 순서쌍은 불변 순서쌍과 마찬가지 이름의 getter 메소드가 있고 추가로 setter 메소드도 있다.\n",
    "\n",
    "또, 가변 순서쌍도 불변 순서쌍과 마찬가지로 Comparable 제너릭 인터페이스를 구현하라.\n"
   ]
  },
  {
   "cell_type": "code",
   "execution_count": 3,
   "id": "38eb649f-d95e-40d8-a33b-658df4ee4a7f",
   "metadata": {},
   "outputs": [],
   "source": [
    "class ModifiablePair<F extends Comparable<F>, S extends Comparable<S>> implements Comparable<ModifiablePair<F, S>> {\n",
    "    private Pair<F, S> pair; // 불변 Pair 필드\n",
    "\n",
    "    // 생성자: 초기 값으로 pair를 설정\n",
    "    ModifiablePair(F first, S second) {\n",
    "        this.pair = new Pair<>(first, second);\n",
    "    }\n",
    "    \n",
    "    // getter 메소드: pair에게 위임\n",
    "    public F first() {\n",
    "        return pair.first();\n",
    "    }\n",
    "\n",
    "    public S second() {\n",
    "        return pair.second();\n",
    "    }\n",
    "\n",
    "    // setter 메소드: 새로운 값을 넣은 새로운 Pair 객체로 pair 갱신\n",
    "    public void setFirst(F first) {\n",
    "        this.pair = new Pair<>(first, pair.second());\n",
    "    }\n",
    "\n",
    "    public void setSecond(S second) {\n",
    "        this.pair = new Pair<>(pair.first(), second);\n",
    "    }\n",
    "\n",
    "    // compareTo: pair에게 위임하여 비교\n",
    "    @Override\n",
    "    public int compareTo(ModifiablePair<F, S> other) {\n",
    "        return this.pair.compareTo(other.pair);\n",
    "    }\n",
    "\n",
    "    // toString: pair에게 위임\n",
    "    @Override\n",
    "    public String toString() {\n",
    "        return pair.toString();\n",
    "    }\n",
    "}"
   ]
  },
  {
   "cell_type": "code",
   "execution_count": 4,
   "id": "57af3b33-b9db-43bd-a8e7-5b35d97aaf5e",
   "metadata": {},
   "outputs": [
    {
     "name": "stdout",
     "output_type": "stream",
     "text": [
      "First: 1\n",
      "Second: One\n",
      "First: 2\n",
      "Second: Two\n",
      "pair.compareTo(anotherPair): -1\n",
      "pair.toString(): Pair[first=2, second=Two]\n",
      "anotherPair.toString(): Pair[first=3, second=Three]\n"
     ]
    }
   ],
   "source": [
    "// 초기값 설정\n",
    "ModifiablePair<Integer, String> pair = new ModifiablePair<>(1, \"One\");\n",
    "\n",
    "// 초기 값 출력\n",
    "System.out.println(\"First: \" + pair.first());    // 출력: 1\n",
    "System.out.println(\"Second: \" + pair.second());  // 출력: \"One\"\n",
    "\n",
    "// setter를 사용하여 값 변경\n",
    "pair.setFirst(2);\n",
    "pair.setSecond(\"Two\");\n",
    "\n",
    "// 변경된 값 출력\n",
    "System.out.println(\"First: \" + pair.first());    // 출력: 2\n",
    "System.out.println(\"Second: \" + pair.second());  // 출력: \"Two\"\n",
    "\n",
    "// compareTo 테스트\n",
    "ModifiablePair<Integer, String> anotherPair = new ModifiablePair<>(3, \"Three\");\n",
    "int comparisonResult = pair.compareTo(anotherPair);\n",
    "\n",
    "System.out.println(\"pair.compareTo(anotherPair): \" + comparisonResult); // 출력: 비교 결과\n",
    "\n",
    "// 추가로 출력 확인\n",
    "System.out.println(\"pair.toString(): \" + pair.toString());  // 출력: pair의 toString 결과\n",
    "System.out.println(\"anotherPair.toString(): \" + anotherPair.toString());  // 출력: anotherPair의 toString 결과"
   ]
  },
  {
   "cell_type": "code",
   "execution_count": 5,
   "id": "e0b9e66e-d3fa-4485-b6f6-4075eca8fcf3",
   "metadata": {},
   "outputs": [
    {
     "name": "stdout",
     "output_type": "stream",
     "text": [
      "Test 1: pair1 > pair2: 1\n",
      "Test 2: pair3 < pair2: -1\n",
      "Test 3: pair4 == pair2: 0\n"
     ]
    }
   ],
   "source": [
    "// 테스트 1: 왼쪽이 더 큰 경우 (First 값이 더 큼)\n",
    "ModifiablePair<Integer, String> pair1 = new ModifiablePair<>(5, \"Five\");\n",
    "ModifiablePair<Integer, String> pair2 = new ModifiablePair<>(3, \"Three\");\n",
    "int comparison1 = pair1.compareTo(pair2);\n",
    "System.out.println(\"Test 1: pair1 > pair2: \" + comparison1); // 양수 출력\n",
    "\n",
    "// 테스트 2: 왼쪽이 더 작은 경우 (First 값이 더 작음)\n",
    "ModifiablePair<Integer, String> pair3 = new ModifiablePair<>(2, \"Two\");\n",
    "int comparison2 = pair3.compareTo(pair2);\n",
    "System.out.println(\"Test 2: pair3 < pair2: \" + comparison2); // 음수 출력\n",
    "\n",
    "// 테스트 3: 같은 경우 (First 값과 Second 값이 모두 동일)\n",
    "ModifiablePair<Integer, String> pair4 = new ModifiablePair<>(3, \"Three\");\n",
    "int comparison3 = pair4.compareTo(pair2);\n",
    "System.out.println(\"Test 3: pair4 == pair2: \" + comparison3); // 0 출력"
   ]
  }
 ],
 "metadata": {
  "kernelspec": {
   "display_name": "Java (rjk 2.1.0)",
   "language": "java",
   "name": "rapaio-jupyter-kernel"
  },
  "language_info": {
   "codemirror_mode": "java",
   "file_extension": ".jshell",
   "mimetype": "text/x-java-source",
   "name": "java",
   "nbconvert_exporter": "script",
   "pygments_lexer": "java",
   "version": "22.0.2+9"
  }
 },
 "nbformat": 4,
 "nbformat_minor": 5
}
