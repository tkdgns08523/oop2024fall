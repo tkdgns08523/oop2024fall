{
 "cells": [
  {
   "cell_type": "markdown",
   "id": "49b2bb3f-8a94-4aba-bf67-6b97d86c0047",
   "metadata": {},
   "source": [
    "# OOP (2024 Fall) HW1: 불변 순서쌍을 활용해 가변 순서쌍 만들기 \n",
    "- 이름: 한상훈\n",
    "- 학번: 20210504\n",
    "\n",
    "여기 홍길동, 99999999 대신 본인의 이름, 학번 작성"
   ]
  },
  {
   "cell_type": "markdown",
   "id": "9c3c24aa-19ac-4c88-a228-0d1686034a24",
   "metadata": {},
   "source": [
    "-----\n",
    "## Part A: 불변 순서쌍 Pair\n",
    "1. 클래스(또는 정적) 팩토리 메소드 `of`를 를 수정하여 완성하라.\n",
    "    - https://velog.io/@cjh8746/%EC%A0%95%EC%A0%81-%ED%8C%A9%ED%86%A0%EB%A6%AC-%EB%A9%94%EC%84%9C%EB%93%9CStatic-Factory-Method\n",
    "1. 주석 부분을 풀어 제너릭 클래스인 `Pair`가 제너릭 인터페이스 `Comparable`를 구현하도록 완성하라.\n",
    "    - https://docs.oracle.com/en/java/javase/22/docs/api/java.base/java/lang/Comparable.html"
   ]
  },
  {
   "cell_type": "code",
   "execution_count": 1,
   "id": "f2b4bcb7-9d9c-494a-9762-ca0700c6f762",
   "metadata": {},
   "outputs": [],
   "source": [
    "record Pair<F extends Comparable<F>, S extends Comparable<S>>(F first, S second) implements Comparable<Pair<F, S>> {\n",
    "\n",
    "   \n",
    "    static <F extends Comparable<F>, S extends Comparable<S>> Pair<F, S> of(F first, S second) {\n",
    "        return new Pair<>(first, second);\n",
    "    }\n",
    "@Override\n",
    "public int compareTo(Pair<F, S> other) {\n",
    "    int firstComparison = this.first.compareTo(other.first);\n",
    "    if (firstComparison != 0) {\n",
    "        return firstComparison;\n",
    "        }\n",
    "    return this.second.compareTo(other.second);\n",
    "    }\n",
    "}"
   ]
  },
  {
   "cell_type": "code",
   "execution_count": 2,
   "id": "5fb5b2ac-4ac0-40cc-9f87-1675177e4baa",
   "metadata": {},
   "outputs": [],
   "source": [
    "public class PairTest {\n",
    "    public static void main(String[] args) {\n",
    "        \n",
    "        Pair<Integer, String> pair1 = Pair.of(3, \"apple\");\n",
    "        Pair<Integer, String> pair2 = Pair.of(2, \"banana\");\n",
    "        Pair<Integer, String> pair3 = Pair.of(1, \"apple\");\n",
    "        Pair<Integer, String> pair4 = Pair.of(2, \"banana\");\n",
    "        Pair<Integer, String> pair5 = Pair.of(2, \"apple\");\n",
    "        Pair<Integer, String> pair6 = Pair.of(2, \"apple\");\n",
    "\n",
    "        System.out.println(pair1.compareTo(pair2));\n",
    "        System.out.println(pair3.compareTo(pair4));\n",
    "        System.out.println(pair5.compareTo(pair6));\n",
    "    }\n",
    "}"
   ]
  },
  {
   "cell_type": "markdown",
   "id": "e2774a64-250e-4e89-a536-5a8ed42bb4ce",
   "metadata": {},
   "source": [
    "------\n",
    "## Part B: 가변 순서쌍 ModifiablePair\n",
    "\n",
    "불변 순서쌍만을 priviate 필드로 갖고 있는 가변 순서쌍 제너릭 클래스를 작성하라\n",
    "\n",
    "가변 순서쌍은 불변 순서쌍과 마찬가지 이름의 getter 메소드가 있고 추가로 setter 메소드도 있다.\n",
    "\n",
    "또, 가변 순서쌍도 불변 순서쌍과 마찬가지로 Comparable 제너릭 인터페이스를 구현하라.\n"
   ]
  },
  {
   "cell_type": "code",
   "execution_count": 3,
   "id": "38eb649f-d95e-40d8-a33b-658df4ee4a7f",
   "metadata": {},
   "outputs": [],
   "source": [
    "class ModifiablePair<F extends Comparable<F>, S extends Comparable<S>> implements Comparable<ModifiablePair<F, S>> {\n",
    "    private Pair<F, S> pair;\n",
    "\n",
    "    // 생성자\n",
    "    ModifiablePair(F first, S second) {\n",
    "        this.pair = Pair.of(first, second);\n",
    "    }\n",
    "\n",
    "    // getter: pair 객체에 위임\n",
    "    public F first() {\n",
    "        return pair.first();\n",
    "    }\n",
    "\n",
    "    public S second() {\n",
    "        return pair.second();\n",
    "    }\n",
    "\n",
    "    // setter: 새로운 Pair 객체로 대체\n",
    "    public void setFirst(F first) {\n",
    "        this.pair = Pair.of(first, pair.second());\n",
    "    }\n",
    "\n",
    "    public void setSecond(S second) {\n",
    "        this.pair = Pair.of(pair.first(), second);\n",
    "    }\n",
    "\n",
    "    // compareTo 메서드: pair 객체에 위임\n",
    "    @Override\n",
    "    public int compareTo(ModifiablePair<F, S> other) {\n",
    "        return this.pair.compareTo(other.pair);\n",
    "    }\n",
    "\n",
    "    // toString: pair 객체에 위임\n",
    "    @Override\n",
    "    public String toString() {\n",
    "        return pair.toString();\n",
    "    }\n",
    "}"
   ]
  },
  {
   "cell_type": "code",
   "execution_count": 4,
   "id": "57af3b33-b9db-43bd-a8e7-5b35d97aaf5e",
   "metadata": {},
   "outputs": [],
   "source": [
    "public class ModifiablePairTest {\n",
    "    public static void main(String[] args) {\n",
    "        // ModifiablePair 객체 생성\n",
    "        ModifiablePair<Integer, String> pair = new ModifiablePair<>(1, \"apple\");\n",
    "\n",
    "        // 초기 상태 확인\n",
    "        System.out.println(\"Initial pair: (\" + pair.first() + \", \" + pair.second() + \")\");\n",
    "\n",
    "        // first와 second 값을 변경\n",
    "        pair.setFirst(10);\n",
    "        pair.setSecond(\"orange\");\n",
    "\n",
    "        // 변경된 상태 확인\n",
    "        System.out.println(\"Modified pair: (\" + pair.first() + \", \" + pair.second() + \")\");\n",
    "\n",
    "        // 다시 한번 first와 second 값을 변경\n",
    "        pair.setFirst(20);\n",
    "        pair.setSecond(\"banana\");\n",
    "\n",
    "        // 최종 상태 확인\n",
    "        System.out.println(\"Final pair: (\" + pair.first() + \", \" + pair.second() + \")\");\n",
    "    }\n",
    "}"
   ]
  },
  {
   "cell_type": "code",
   "execution_count": 5,
   "id": "e0b9e66e-d3fa-4485-b6f6-4075eca8fcf3",
   "metadata": {},
   "outputs": [],
   "source": [
    "public class ModifiablePairTest {\n",
    "    public static void main(String[] args) {\n",
    "        // ModifiablePair 객체 생성\n",
    "        ModifiablePair<Integer, String> pair1 = new ModifiablePair<>(3, \"apple\");\n",
    "        ModifiablePair<Integer, String> pair2 = new ModifiablePair<>(2, \"banana\");\n",
    "        ModifiablePair<Integer, String> pair3 = new ModifiablePair<>(1, \"apple\");\n",
    "        ModifiablePair<Integer, String> pair4 = new ModifiablePair<>(2, \"banana\");\n",
    "        ModifiablePair<Integer, String> pair5 = new ModifiablePair<>(2, \"apple\");\n",
    "        ModifiablePair<Integer, String> pair6 = new ModifiablePair<>(2, \"apple\");\n",
    "\n",
    "        // 왼쪽이 더 큰 경우 (pair1 > pair2)\n",
    "        System.out.println(\"pair1 compareTo pair2: \" + pair1.compareTo(pair2));  // 예상 결과: 양수\n",
    "\n",
    "        // 왼쪽이 더 작은 경우 (pair3 < pair4)\n",
    "        System.out.println(\"pair3 compareTo pair4: \" + pair3.compareTo(pair4));  // 예상 결과: 음수\n",
    "\n",
    "        // 같은 경우 (pair5 == pair6)\n",
    "        System.out.println(\"pair5 compareTo pair6: \" + pair5.compareTo(pair6));  // 예상 결과: 0\n",
    "    }\n",
    "}"
   ]
  }
 ],
 "metadata": {
  "kernelspec": {
   "display_name": "Java (rjk 2.1.0)",
   "language": "java",
   "name": "rapaio-jupyter-kernel"
  },
  "language_info": {
   "codemirror_mode": "java",
   "file_extension": ".jshell",
   "mimetype": "text/x-java-source",
   "name": "java",
   "nbconvert_exporter": "script",
   "pygments_lexer": "java",
   "version": "22.0.2+9"
  }
 },
 "nbformat": 4,
 "nbformat_minor": 5
}
