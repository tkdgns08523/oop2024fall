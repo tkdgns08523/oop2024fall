{
 "cells": [
  {
   "cell_type": "markdown",
   "id": "49b2bb3f-8a94-4aba-bf67-6b97d86c0047",
   "metadata": {},
   "source": [
    "# OOP (2024 Fall) HW1: 불변 순서쌍을 활용해 가변 순서쌍 만들기 \n",
    "- 이름: 한상훈\n",
    "- 학번: 20210504\n",
    "\n",
    "여기 홍길동, 99999999 대신 본인의 이름, 학번 작성"
   ]
  },
  {
   "cell_type": "markdown",
   "id": "9c3c24aa-19ac-4c88-a228-0d1686034a24",
   "metadata": {},
   "source": [
    "-----\n",
    "## Part A: 불변 순서쌍 Pair\n",
    "1. 클래스(또는 정적) 팩토리 메소드 `of`를 를 수정하여 완성하라.\n",
    "    - https://velog.io/@cjh8746/%EC%A0%95%EC%A0%81-%ED%8C%A9%ED%86%A0%EB%A6%AC-%EB%A9%94%EC%84%9C%EB%93%9CStatic-Factory-Method\n",
    "1. 주석 부분을 풀어 제너릭 클래스인 `Pair`가 제너릭 인터페이스 `Comparable`를 구현하도록 완성하라.\n",
    "    - https://docs.oracle.com/en/java/javase/22/docs/api/java.base/java/lang/Comparable.html"
   ]
  },
  {
   "cell_type": "code",
   "execution_count": 1,
   "id": "f2b4bcb7-9d9c-494a-9762-ca0700c6f762",
   "metadata": {},
   "outputs": [],
   "source": [
    "record Pair<F extends Comparable<F>, S extends Comparable<S>>(F first, S second) implements Comparable<Pair<F, S>> {\n",
    "\n",
    "   \n",
    "    static <F extends Comparable<F>, S extends Comparable<S>> Pair<F, S> of(F first, S second) {\n",
    "        return new Pair<>(first, second);\n",
    "    }\n",
    "\n",
    "    @Override\n",
    "    public int compareTo(Pair<F, S> other) {\n",
    "        return this.first.compareTo(other.first) != 0\n",
    "                ? this.first.compareTo(other.first)\n",
    "                : this.second.compareTo(other.second);\n",
    "    }\n",
    "}"
   ]
  },
  {
   "cell_type": "code",
   "execution_count": 2,
   "id": "5fb5b2ac-4ac0-40cc-9f87-1675177e4baa",
   "metadata": {},
   "outputs": [],
   "source": [
    "public class PairTest {\n",
    "    public static void main(String[] args) {\n",
    "        \n",
    "        Pair<Integer, String> pair1 = Pair.of(3, \"apple\");\n",
    "        Pair<Integer, String> pair2 = Pair.of(2, \"banana\");\n",
    "        Pair<Integer, String> pair3 = Pair.of(1, \"apple\");\n",
    "        Pair<Integer, String> pair4 = Pair.of(2, \"banana\");\n",
    "        Pair<Integer, String> pair5 = Pair.of(2, \"apple\");\n",
    "        Pair<Integer, String> pair6 = Pair.of(2, \"apple\");\n",
    "\n",
    "        System.out.println(pair1.compareTo(pair2));\n",
    "        System.out.println(pair3.compareTo(pair4));\n",
    "        System.out.println(pair5.compareTo(pair6));\n",
    "    }\n",
    "}"
   ]
  },
  {
   "cell_type": "markdown",
   "id": "e2774a64-250e-4e89-a536-5a8ed42bb4ce",
   "metadata": {},
   "source": [
    "------"
   ]
  },
  {
   "cell_type": "code",
   "execution_count": 3,
   "id": "38eb649f-d95e-40d8-a33b-658df4ee4a7f",
   "metadata": {},
   "outputs": [
    {
     "ename": "CompilerException",
     "evalue": "",
     "output_type": "error",
     "traceback": [
      "\u001b[0m\u001b[1m\u001b[31mCompile error:\u001b[0m",
      "\u001b[0m\u001b[1;30m|    class ModifiablePair<F,S> /* implements Comparable< ... > */ {\u001b[0m",
      "\u001b[0m\u001b[1m|        private Pair<\u001b[0m\u001b[1m\u001b[48;2;235;145;148mF\u001b[0m\u001b[1m,S> pair; // 이 field 말고 다른 field는 추가로 정의하지 말 것!\u001b[0m",
      "\u001b[0m\u001b[1;30m|    \u001b[0m",
      "\u001b[0m\u001b[1;30m|        ModifiablePair(F first, S second) {\u001b[0m",
      "\u001b[0m\u001b[1;30m|            throw new UnsupportedOperationException(\"Not implemented yet\");\u001b[0m",
      "\u001b[0m\u001b[1;30m|        }\u001b[0m",
      "\u001b[0m\u001b[1;30m|        \u001b[0m",
      "\u001b[0m\u001b[1;30m|        // getter들은 pair에게 위임(delegate)하는 방식으로 작성하라\u001b[0m",
      "\u001b[0m\u001b[1;30m|        public F first() {\u001b[0m",
      "\u001b[0m\u001b[1;30m|            throw new UnsupportedOperationException(\"Not implemented yet\");\u001b[0m",
      "\u001b[0m\u001b[1;30m|        }\u001b[0m",
      "\u001b[0m\u001b[1;30m|        public S second() {\u001b[0m",
      "\u001b[0m\u001b[1;30m|            throw new UnsupportedOperationException(\"Not implemented yet\");\u001b[0m",
      "\u001b[0m\u001b[1;30m|        }\u001b[0m",
      "\u001b[0m\u001b[1;30m|        \u001b[0m",
      "\u001b[0m\u001b[1;30m|        // setter들은 적절히 정의하라\u001b[0m",
      "\u001b[0m\u001b[1;30m|        public void setFirst(F first) {\u001b[0m",
      "\u001b[0m\u001b[1;30m|            throw new UnsupportedOperationException(\"Not implemented yet\");\u001b[0m",
      "\u001b[0m\u001b[1;30m|        }\u001b[0m",
      "\u001b[0m\u001b[1;30m|        public void setSecond(F second) {\u001b[0m",
      "\u001b[0m\u001b[1;30m|            throw new UnsupportedOperationException(\"Not implemented yet\");\u001b[0m",
      "\u001b[0m\u001b[1;30m|        }\u001b[0m",
      "\u001b[0m\u001b[1;30m|    \u001b[0m",
      "\u001b[0m\u001b[1;30m|        /*\u001b[0m",
      "\u001b[0m\u001b[1;30m|        // compareTo는 pair에게 위임(delegate)하는 방식으로 작성하라\u001b[0m",
      "\u001b[0m\u001b[1;30m|        @Override\u001b[0m",
      "\u001b[0m\u001b[1;30m|        public int compareTo(...) {\u001b[0m",
      "\u001b[0m\u001b[1;30m|        }\u001b[0m",
      "\u001b[0m\u001b[1;30m|        */\u001b[0m",
      "\u001b[0m\u001b[1;30m|    \u001b[0m",
      "\u001b[0m\u001b[1;30m|        @Override\u001b[0m",
      "\u001b[0m\u001b[1;30m|        public String toString() { \u001b[0m",
      "\u001b[0m\u001b[1;30m|            return pair.toString(); // toString은 그냥 pair에게 위임\u001b[0m",
      "\u001b[0m\u001b[1;30m|        }\u001b[0m",
      "\u001b[0m\u001b[1;30m|    }\u001b[0m",
      "\u001b[0m\u001b[1m\u001b[34mtype argument F is not within bounds of type-variable F\u001b[0m",
      ""
     ]
    }
   ],
   "source": [
    "class ModifiablePair<F extends Comparable<F>, S extends Comparable<S>> implements Comparable<ModifiablePair<F, S>> {\n",
    "    private Pair<F, S> pair;\n",
    "\n",
    "    // 생성자\n",
    "    ModifiablePair(F first, S second) {\n",
    "        this.pair = Pair.of(first, second);\n",
    "    }\n",
    "\n",
    "    // getter: pair 객체에 위임\n",
    "    public F first() {\n",
    "        return pair.first();\n",
    "    }\n",
    "\n",
    "    public S second() {\n",
    "        return pair.second();\n",
    "    }\n",
    "\n",
    "    // setter: 새로운 Pair 객체로 대체\n",
    "    public void setFirst(F first) {\n",
    "        this.pair = Pair.of(first, pair.second());\n",
    "    }\n",
    "\n",
    "    public void setSecond(S second) {\n",
    "        this.pair = Pair.of(pair.first(), second);\n",
    "    }\n",
    "\n",
    "    // compareTo 메서드: pair 객체에 위임\n",
    "    @Override\n",
    "    public int compareTo(ModifiablePair<F, S> other) {\n",
    "        return this.pair.compareTo(other.pair);\n",
    "    }\n",
    "\n",
    "    // toString: pair 객체에 위임\n",
    "    @Override\n",
    "    public String toString() {\n",
    "        return pair.toString();\n",
    "    }\n",
    "}\n"
   ]
  },
  {
   "cell_type": "code",
   "execution_count": 4,
   "id": "57af3b33-b9db-43bd-a8e7-5b35d97aaf5e",
   "metadata": {},
   "outputs": [],
   "source": [
    "// ModifiablePair<F,S>의 getter와 setter들이 잘 동작하는지 확인할 수 있는 적절한 테스트 코드 작성하여 실행하라.\n",
    "// 그러니까 `first()`, `second()`, `setFrist(F)`, `setSecond(S)` 메소드를 모두 활용하는 예시 코드를 작성해 실행하라는 말이다."
   ]
  }
 ],
 "metadata": {
  "kernelspec": {
   "display_name": "Java (rjk 2.1.0)",
   "language": "java",
   "name": "rapaio-jupyter-kernel"
  },
  "language_info": {
   "codemirror_mode": "java",
   "file_extension": ".jshell",
   "mimetype": "text/x-java-source",
   "name": "java",
   "nbconvert_exporter": "script",
   "pygments_lexer": "java",
   "version": "22.0.2+9"
  }
 },
 "nbformat": 4,
 "nbformat_minor": 5
}
